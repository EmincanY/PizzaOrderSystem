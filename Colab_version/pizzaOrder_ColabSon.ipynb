{
  "nbformat": 4,
  "nbformat_minor": 0,
  "metadata": {
    "colab": {
      "provenance": []
    },
    "kernelspec": {
      "name": "python3",
      "display_name": "Python 3"
    },
    "language_info": {
      "name": "python"
    }
  },
  "cells": [
    {
      "cell_type": "code",
      "execution_count": 13,
      "metadata": {
        "id": "jHKgal8ShyiB"
      },
      "outputs": [],
      "source": [
        "# Import Neccessary libraries\n",
        "from datetime import datetime\n",
        "import csv\n",
        "from IPython import display\n",
        "from typing import List"
      ]
    },
    {
      "cell_type": "code",
      "source": [
        "# Connect to your google drive\n",
        "from google.colab import drive\n",
        "drive.mount('/content/gdrive' , force_remount=True) "
      ],
      "metadata": {
        "colab": {
          "base_uri": "https://localhost:8080/"
        },
        "id": "guEBNvzQh3P0",
        "outputId": "67ad235e-1564-4b6a-bf7a-b81b79aad63e"
      },
      "execution_count": 14,
      "outputs": [
        {
          "output_type": "stream",
          "name": "stdout",
          "text": [
            "Mounted at /content/gdrive\n"
          ]
        }
      ]
    },
    {
      "cell_type": "code",
      "source": [
        "# Define functions for use Menu.txt and Orders_Database.csv\n",
        "\n",
        "gDrivePath = '/content/gdrive/MyDrive/GlobalAI-PizzaOrder/'\n",
        "\n",
        "def showMenu():\n",
        "  with open(gDrivePath+'Menu.txt', 'r') as f:\n",
        "    print(f.read())\n",
        "\n",
        "def ordersList():\n",
        "  with open(gDrivePath+'Orders_Database.csv', mode=\"r+\") as db:\n",
        "    print(db.read())"
      ],
      "metadata": {
        "id": "0RqVdkMMh4Gk"
      },
      "execution_count": 15,
      "outputs": []
    },
    {
      "cell_type": "code",
      "source": [
        "# Define Pizza Classes\n",
        "class Pizza:\n",
        "    def __init__(self, name, cost):\n",
        "        self.name = name\n",
        "        self.cost = cost\n",
        "        \n",
        "    def get_cost(self):\n",
        "        return self.cost\n",
        "    \n",
        "    def get_name(self):\n",
        "        return self.name\n",
        "\n",
        "class ClassicPizza(Pizza):\n",
        "    def __init__(self, name, cost):\n",
        "        super().__init__(name, cost)\n",
        "\n",
        "class MargheritaPizza(Pizza):\n",
        "    def __init__(self, name, cost):\n",
        "        super().__init__(name, cost)\n",
        "\n",
        "class TurkPizza(Pizza):\n",
        "    def __init__(self, name, cost):\n",
        "        super().__init__(name, cost)\n",
        "\n",
        "class DominosPizza(Pizza):\n",
        "    def __init__(self, name, cost):\n",
        "        super().__init__(name, cost)\n",
        "\n",
        "class VeganPizza(Pizza):\n",
        "    def __init__(self, name, cost):\n",
        "        super().__init__(name, cost)\n",
        "\n",
        "class AkdenizPizza(Pizza):\n",
        "    def __init__(self, name, cost):\n",
        "        super().__init__(name, cost)"
      ],
      "metadata": {
        "id": "ST-DgZxnh6a0"
      },
      "execution_count": 16,
      "outputs": []
    },
    {
      "cell_type": "code",
      "source": [
        "# Define Pizza Size Classes\n",
        "class PizzaSize:\n",
        "    def __init__(self, name, multiplyCost):\n",
        "        self.name = name\n",
        "        self.multiplyCost = multiplyCost\n",
        "        \n",
        "    def get_multiplyCost(self):\n",
        "        return self.multiplyCost\n",
        "    \n",
        "    def get_name(self):\n",
        "        return self.name\n",
        "\n",
        "class BigSize(PizzaSize):\n",
        "    def __init__(self, name, multiplyCost):\n",
        "        super().__init__(name, multiplyCost)\n",
        "\n",
        "class NormalSize(PizzaSize):\n",
        "    def __init__(self, name, multiplyCost):\n",
        "        super().__init__(name, multiplyCost)\n",
        "\n",
        "class SmallSize(PizzaSize):\n",
        "    def __init__(self, name, multiplyCost):\n",
        "        super().__init__(name, multiplyCost)"
      ],
      "metadata": {
        "id": "mYg41G4zh7yj"
      },
      "execution_count": 17,
      "outputs": []
    },
    {
      "cell_type": "code",
      "source": [
        "# Define Sauce Classes\n",
        "class Sauce:\n",
        "  def __init__(self, name, cost ):\n",
        "    self.name = name\n",
        "    self.cost = cost\n",
        "\n",
        "  def get_cost(self):\n",
        "    return self.cost\n",
        "\n",
        "  def get_name(self):\n",
        "    return self.name\n",
        "\n",
        "class Olive(Sauce):\n",
        "  def __init__(self, name, cost):\n",
        "    super().__init__(name, cost)\n",
        "\n",
        "class Mushrooms(Sauce):\n",
        "  def __init__(self, name, cost):\n",
        "    super().__init__(name, cost)\n",
        "\n",
        "class GoatCheese(Sauce):\n",
        "  def __init__(self, name, cost):\n",
        "    super().__init__(name, cost)\n",
        "\n",
        "class Meat(Sauce):\n",
        "  def __init__(self, name, cost):\n",
        "    super().__init__(name, cost)\n",
        "\n",
        "class Onion(Sauce):\n",
        "  def __init__(self, name, cost):\n",
        "    super().__init__(name, cost)\n",
        "\n",
        "class Corn(Sauce):\n",
        "  def __init__(self, name, cost):\n",
        "    super().__init__(name, cost)\n",
        "\n",
        "class Sausage(Sauce):\n",
        "  def __init__(self, name, cost):\n",
        "    super().__init__(name, cost)\n",
        "\n",
        "class greenPepper(Sauce):\n",
        "  def __init__(self, name, cost):\n",
        "    super().__init__(name, cost)"
      ],
      "metadata": {
        "id": "WaXxz0YKh9QE"
      },
      "execution_count": 18,
      "outputs": []
    },
    {
      "cell_type": "code",
      "source": [
        "# Define Decorator class for use pizza, pizzaSize and sauces classes together\n",
        "class Decorator:\n",
        "    def __init__(self, pizza: Pizza , pizzaSize: PizzaSize , sauces: List[Sauce] ):\n",
        "        self.pizza = pizza\n",
        "        self.pizzaSize = pizzaSize\n",
        "        self.sauces = sauces\n",
        "\n",
        "    def get_total_cost(self):\n",
        "        return self.pizza.get_cost()*self.pizzaSize.get_multiplyCost() + sum([s.get_cost() for s in self.sauces])\n",
        "\n",
        "    def get_all_name(self):\n",
        "        return self.pizzaSize.get_name() + ' ' + self.pizza.get_name() + ' - ' + ' '.join([s.get_name() for s in self.sauces])"
      ],
      "metadata": {
        "id": "E7m2_xIviBYD"
      },
      "execution_count": 19,
      "outputs": []
    },
    {
      "cell_type": "code",
      "source": [
        "# Define chose Pizza, PizzaSize and Sauce functions for user choose.\n",
        "def choosePizza(pizzaKod):\n",
        "    return pizzas.get(pizzaKod)\n",
        "\n",
        "def choosePizzaSize(pizzaSizeKod):\n",
        "    return pizzaSizes.get(pizzaSizeKod)\n",
        "\n",
        "def chooseSauce(*sauceKods):\n",
        "    return [sauces.get(code) for code in sauceKods]"
      ],
      "metadata": {
        "id": "wleoMp7yiJG8"
      },
      "execution_count": 20,
      "outputs": []
    },
    {
      "cell_type": "code",
      "source": [
        "# Function for get User informations.\n",
        "def getUserInfo():\n",
        "    global name, tc, card, passw\n",
        "    name = input(\"Lütfen İsminizi Giriniz(Çıkmak için q): \")\n",
        "    if name == 'q':\n",
        "        return None\n",
        "    while True:\n",
        "        tc = input(\"TC Kimlik giriniz(Çıkmak için q): \")\n",
        "        if tc == 'q':\n",
        "            return None\n",
        "        elif (len(tc) != 11) | (not tc.isdigit()):\n",
        "            print(\"Lütfen TC'niz olarak 11 haneli rakam değeri giriniz\")\n",
        "            continue\n",
        "        break\n",
        "    while True:\n",
        "        card = input(\"Kredi Kartı numarası giriniz(Çıkmak için q): \")\n",
        "        if card == 'q':\n",
        "            return None\n",
        "        elif (len(card) != 8) | (not card.isdigit()):\n",
        "            print(\"Lütfen Kartınız olarak 8 haneli rakam değeri giriniz\")\n",
        "            continue\n",
        "        break\n",
        "    passw = input(\"Kredi Kartı şifresini giriniz(Çıkmak için q): \")\n",
        "    if passw == 'q':\n",
        "        return None\n",
        "    return 1"
      ],
      "metadata": {
        "id": "2ZrkGoPfiL0T"
      },
      "execution_count": 21,
      "outputs": []
    },
    {
      "cell_type": "code",
      "source": [
        "# Function for get order informations\n",
        "def getOrderInfo():\n",
        "    while True:\n",
        "        global pizzaKod, pizzaSizeKod, sauceKod, sauceKodList\n",
        "        showMenu()\n",
        "        pizzaKod = input(\"Lütfen seçmek istediğiniz pizza kodunu giriniz (Çıkmak için q): \")\n",
        "        if pizzaKod == 'q':\n",
        "            return None\n",
        "        pizzaSizeKod = input(\"Lütfen seçmek istediğiniz pizza boyutunun kodunu giriniz (Çıkmak için q): \")\n",
        "        if pizzaSizeKod == 'q':\n",
        "            return None\n",
        "        sauceKod = input(\"Lütfen seçmek istediğiniz sos kodlarını aralarında boşluk bırakarak giriniz (Çıkmak için q): \")\n",
        "        if sauceKod == 'q':\n",
        "            return None\n",
        "        sauceKodList = sauceKod.split()\n",
        "        \n",
        "        if (pizzaKod not in pizzas.keys()) or (pizzaSizeKod not in pizzaSizes.keys()) or (not all(code in sauces.keys() for code in sauceKodList)):\n",
        "            display.clear_output()\n",
        "            print('Lütfen kodları doğru bir şekilde giriniz.')\n",
        "            continue\n",
        "        return 1"
      ],
      "metadata": {
        "id": "XFLMiIz9iOQs"
      },
      "execution_count": 22,
      "outputs": []
    },
    {
      "cell_type": "code",
      "source": [
        "# Function for save orders\n",
        "def saveOrder():\n",
        "    with open(\"/content/gdrive/MyDrive/GlobalAI-PizzaOrder/Orders_Database.csv\", mode='a') as db:\n",
        "        writer = csv.writer(db, delimiter=',', quotechar='\"', quoting=csv.QUOTE_MINIMAL, lineterminator='\\n')\n",
        "        writer.writerow([name, tc, card, passw, order.get_all_name(), order.get_total_cost(), date])"
      ],
      "metadata": {
        "id": "lN6RxcBniP70"
      },
      "execution_count": 23,
      "outputs": []
    },
    {
      "cell_type": "code",
      "source": [
        "orders = []\n",
        "# Define a loop for customer chooses.\n",
        "while True:\n",
        "    pizzas = {\n",
        "    '1': ClassicPizza('Klasik Pizza', 40),\n",
        "    '2': MargheritaPizza('Margarita Pizza', 50),\n",
        "    '3': TurkPizza('Türk Pizza', 45),\n",
        "    '4': DominosPizza('Dominos Pizza', 48),\n",
        "    '5': VeganPizza('Vegan Pizza', 40),\n",
        "    '6': AkdenizPizza('Akdeniz Pizza',46)\n",
        "    }\n",
        "\n",
        "    pizzaSizes = {\n",
        "    '01': BigSize('Büyük Boy', 1.5),\n",
        "    '02': NormalSize('Normal Boy', 1),\n",
        "    '03': SmallSize('Küçük Boy', 0.75),\n",
        "    }\n",
        "\n",
        "    sauces = {\n",
        "    '11': Olive('Zeytinli', 4),\n",
        "    '12': Mushrooms('Mantarli', 5),\n",
        "    '13': GoatCheese('Keci Peynirli', 7),\n",
        "    '14': Meat('Etli', 12),\n",
        "    '15': Onion('Soganli', 2),\n",
        "    '16': Corn('Misirli', 3),\n",
        "    '17': Sausage('Sosisli', 9),\n",
        "    '18': greenPepper('Yesil Biberli', 6)\n",
        "    }  \n",
        "    \n",
        "    if getOrderInfo() is None :\n",
        "        display.clear_output()\n",
        "        print('İyi günler dileriz.')\n",
        "        break\n",
        "    sauces = chooseSauce(*sauceKodList)\n",
        "    order = Decorator(choosePizza(pizzaKod),choosePizzaSize(pizzaSizeKod), sauces)\n",
        "    # print(order.get_name(), str(order.get_cost()) + \"TL\")\n",
        "    orders.append(order)\n",
        "    total_cost = sum([order.get_total_cost() for order in orders])\n",
        "    for order in orders :\n",
        "        print(f\"Alınan ürün: {order.get_all_name()} \\tTutar : {order.get_total_cost()} TL\")\n",
        "    print(f\"Toplam tutar: {str(total_cost)} TL\")\n",
        "    \n",
        "    cont_p = input(\"Siparişinize başka bir pizza eklemek istiyor musunuz: e/h => \")\n",
        "    if cont_p == \"e\":\n",
        "        display.clear_output()\n",
        "        continue\n",
        "    \n",
        "    print(\"Siparişiniz için kullanıcı bilgileriniz gerekmektedir.\")\n",
        "    if getUserInfo() is None :\n",
        "        display.clear_output()\n",
        "        print('İyi günler dileriz.')\n",
        "        break\n",
        "        \n",
        "    date = datetime.now()\n",
        "\n",
        "    saveOrder()\n",
        "    print('Siparişiniz alınmıştır.')\n",
        "\n",
        "    cont = input(\"Başka sipariş vermek istiyor musunuz: e/h => \")\n",
        "    if cont == \"e\":\n",
        "        display.clear_output()\n",
        "        orders = []\n",
        "        continue\n",
        "    elif cont == \"h\":\n",
        "        display.clear_output()\n",
        "        print('Afiyet olsun, iyi günler dileriz...')\n",
        "        break"
      ],
      "metadata": {
        "colab": {
          "base_uri": "https://localhost:8080/"
        },
        "id": "BcXNgPq5iRxc",
        "outputId": "74d177a5-2224-4236-c410-50c85c7f4839"
      },
      "execution_count": 24,
      "outputs": [
        {
          "output_type": "stream",
          "name": "stdout",
          "text": [
            "Afiyet olsun, iyi günler dileriz...\n"
          ]
        }
      ]
    },
    {
      "cell_type": "code",
      "source": [],
      "metadata": {
        "id": "RW_nH-X5ifUz"
      },
      "execution_count": 24,
      "outputs": []
    }
  ]
}