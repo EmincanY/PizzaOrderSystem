{
  "nbformat": 4,
  "nbformat_minor": 0,
  "metadata": {
    "colab": {
      "provenance": []
    },
    "kernelspec": {
      "name": "python3",
      "display_name": "Python 3"
    },
    "language_info": {
      "name": "python"
    }
  },
  "cells": [
    {
      "cell_type": "code",
      "execution_count": 1,
      "metadata": {
        "id": "HbyEpKKKzb65"
      },
      "outputs": [],
      "source": [
        "import pandas as pd"
      ]
    },
    {
      "cell_type": "code",
      "source": [
        "# Connect to your google drive\n",
        "from google.colab import drive\n",
        "drive.mount('/content/gdrive' , force_remount=True) "
      ],
      "metadata": {
        "colab": {
          "base_uri": "https://localhost:8080/"
        },
        "id": "Gxk_VOH0zlkc",
        "outputId": "11480981-930f-49aa-ac56-2434cad71910"
      },
      "execution_count": 2,
      "outputs": [
        {
          "output_type": "stream",
          "name": "stdout",
          "text": [
            "Mounted at /content/gdrive\n"
          ]
        }
      ]
    },
    {
      "cell_type": "code",
      "source": [
        "df = pd.read_csv(\"/content/gdrive/MyDrive/GlobalAI-PizzaOrder/Orders_Database.csv\" , encoding='unicode escape' , header=None , names=['İsim','TC','Kart No','Kart Sifre','Siparis','Tutar','Tarih'])\n",
        "df.head()"
      ],
      "metadata": {
        "colab": {
          "base_uri": "https://localhost:8080/",
          "height": 175
        },
        "id": "gebH7rjmzkXw",
        "outputId": "7e8734d3-2e98-43c6-ea53-f9adca71d775"
      },
      "execution_count": 3,
      "outputs": [
        {
          "output_type": "execute_result",
          "data": {
            "text/plain": [
              "      İsim           TC   Kart No  Kart Sifre  \\\n",
              "0     Onur  12345678900  82748503        7658   \n",
              "1  Emincan  75982403481  28405682        1453   \n",
              "2    Merve  85728493210  85739420        8713   \n",
              "3    Deniz  58294012749  82940381        1149   \n",
              "\n",
              "                                             Siparis  Tutar  \\\n",
              "0               Büyük Boy Margarita Pizza - Zeytinli   79.0   \n",
              "1  Normal Boy Klasik Pizza - Keci Peynirli Etli S...   61.0   \n",
              "2  Normal Boy Margarita Pizza - Zeytinli Etli Sog...   68.0   \n",
              "3  BÃ¼yÃ¼k Boy Margarita Pizza - Etli SoganlÄ± MÄ...   92.0   \n",
              "\n",
              "                        Tarih  \n",
              "0  2023-03-10 16:46:08.918540  \n",
              "1  2023-03-10 16:46:55.662765  \n",
              "2  2023-03-10 16:47:50.111098  \n",
              "3  2023-03-10 13:49:20.420586  "
            ],
            "text/html": [
              "\n",
              "  <div id=\"df-939fc879-477b-40f1-aef8-0677a2abf687\">\n",
              "    <div class=\"colab-df-container\">\n",
              "      <div>\n",
              "<style scoped>\n",
              "    .dataframe tbody tr th:only-of-type {\n",
              "        vertical-align: middle;\n",
              "    }\n",
              "\n",
              "    .dataframe tbody tr th {\n",
              "        vertical-align: top;\n",
              "    }\n",
              "\n",
              "    .dataframe thead th {\n",
              "        text-align: right;\n",
              "    }\n",
              "</style>\n",
              "<table border=\"1\" class=\"dataframe\">\n",
              "  <thead>\n",
              "    <tr style=\"text-align: right;\">\n",
              "      <th></th>\n",
              "      <th>İsim</th>\n",
              "      <th>TC</th>\n",
              "      <th>Kart No</th>\n",
              "      <th>Kart Sifre</th>\n",
              "      <th>Siparis</th>\n",
              "      <th>Tutar</th>\n",
              "      <th>Tarih</th>\n",
              "    </tr>\n",
              "  </thead>\n",
              "  <tbody>\n",
              "    <tr>\n",
              "      <th>0</th>\n",
              "      <td>Onur</td>\n",
              "      <td>12345678900</td>\n",
              "      <td>82748503</td>\n",
              "      <td>7658</td>\n",
              "      <td>Büyük Boy Margarita Pizza - Zeytinli</td>\n",
              "      <td>79.0</td>\n",
              "      <td>2023-03-10 16:46:08.918540</td>\n",
              "    </tr>\n",
              "    <tr>\n",
              "      <th>1</th>\n",
              "      <td>Emincan</td>\n",
              "      <td>75982403481</td>\n",
              "      <td>28405682</td>\n",
              "      <td>1453</td>\n",
              "      <td>Normal Boy Klasik Pizza - Keci Peynirli Etli S...</td>\n",
              "      <td>61.0</td>\n",
              "      <td>2023-03-10 16:46:55.662765</td>\n",
              "    </tr>\n",
              "    <tr>\n",
              "      <th>2</th>\n",
              "      <td>Merve</td>\n",
              "      <td>85728493210</td>\n",
              "      <td>85739420</td>\n",
              "      <td>8713</td>\n",
              "      <td>Normal Boy Margarita Pizza - Zeytinli Etli Sog...</td>\n",
              "      <td>68.0</td>\n",
              "      <td>2023-03-10 16:47:50.111098</td>\n",
              "    </tr>\n",
              "    <tr>\n",
              "      <th>3</th>\n",
              "      <td>Deniz</td>\n",
              "      <td>58294012749</td>\n",
              "      <td>82940381</td>\n",
              "      <td>1149</td>\n",
              "      <td>BÃ¼yÃ¼k Boy Margarita Pizza - Etli SoganlÄ± MÄ...</td>\n",
              "      <td>92.0</td>\n",
              "      <td>2023-03-10 13:49:20.420586</td>\n",
              "    </tr>\n",
              "  </tbody>\n",
              "</table>\n",
              "</div>\n",
              "      <button class=\"colab-df-convert\" onclick=\"convertToInteractive('df-939fc879-477b-40f1-aef8-0677a2abf687')\"\n",
              "              title=\"Convert this dataframe to an interactive table.\"\n",
              "              style=\"display:none;\">\n",
              "        \n",
              "  <svg xmlns=\"http://www.w3.org/2000/svg\" height=\"24px\"viewBox=\"0 0 24 24\"\n",
              "       width=\"24px\">\n",
              "    <path d=\"M0 0h24v24H0V0z\" fill=\"none\"/>\n",
              "    <path d=\"M18.56 5.44l.94 2.06.94-2.06 2.06-.94-2.06-.94-.94-2.06-.94 2.06-2.06.94zm-11 1L8.5 8.5l.94-2.06 2.06-.94-2.06-.94L8.5 2.5l-.94 2.06-2.06.94zm10 10l.94 2.06.94-2.06 2.06-.94-2.06-.94-.94-2.06-.94 2.06-2.06.94z\"/><path d=\"M17.41 7.96l-1.37-1.37c-.4-.4-.92-.59-1.43-.59-.52 0-1.04.2-1.43.59L10.3 9.45l-7.72 7.72c-.78.78-.78 2.05 0 2.83L4 21.41c.39.39.9.59 1.41.59.51 0 1.02-.2 1.41-.59l7.78-7.78 2.81-2.81c.8-.78.8-2.07 0-2.86zM5.41 20L4 18.59l7.72-7.72 1.47 1.35L5.41 20z\"/>\n",
              "  </svg>\n",
              "      </button>\n",
              "      \n",
              "  <style>\n",
              "    .colab-df-container {\n",
              "      display:flex;\n",
              "      flex-wrap:wrap;\n",
              "      gap: 12px;\n",
              "    }\n",
              "\n",
              "    .colab-df-convert {\n",
              "      background-color: #E8F0FE;\n",
              "      border: none;\n",
              "      border-radius: 50%;\n",
              "      cursor: pointer;\n",
              "      display: none;\n",
              "      fill: #1967D2;\n",
              "      height: 32px;\n",
              "      padding: 0 0 0 0;\n",
              "      width: 32px;\n",
              "    }\n",
              "\n",
              "    .colab-df-convert:hover {\n",
              "      background-color: #E2EBFA;\n",
              "      box-shadow: 0px 1px 2px rgba(60, 64, 67, 0.3), 0px 1px 3px 1px rgba(60, 64, 67, 0.15);\n",
              "      fill: #174EA6;\n",
              "    }\n",
              "\n",
              "    [theme=dark] .colab-df-convert {\n",
              "      background-color: #3B4455;\n",
              "      fill: #D2E3FC;\n",
              "    }\n",
              "\n",
              "    [theme=dark] .colab-df-convert:hover {\n",
              "      background-color: #434B5C;\n",
              "      box-shadow: 0px 1px 3px 1px rgba(0, 0, 0, 0.15);\n",
              "      filter: drop-shadow(0px 1px 2px rgba(0, 0, 0, 0.3));\n",
              "      fill: #FFFFFF;\n",
              "    }\n",
              "  </style>\n",
              "\n",
              "      <script>\n",
              "        const buttonEl =\n",
              "          document.querySelector('#df-939fc879-477b-40f1-aef8-0677a2abf687 button.colab-df-convert');\n",
              "        buttonEl.style.display =\n",
              "          google.colab.kernel.accessAllowed ? 'block' : 'none';\n",
              "\n",
              "        async function convertToInteractive(key) {\n",
              "          const element = document.querySelector('#df-939fc879-477b-40f1-aef8-0677a2abf687');\n",
              "          const dataTable =\n",
              "            await google.colab.kernel.invokeFunction('convertToInteractive',\n",
              "                                                     [key], {});\n",
              "          if (!dataTable) return;\n",
              "\n",
              "          const docLinkHtml = 'Like what you see? Visit the ' +\n",
              "            '<a target=\"_blank\" href=https://colab.research.google.com/notebooks/data_table.ipynb>data table notebook</a>'\n",
              "            + ' to learn more about interactive tables.';\n",
              "          element.innerHTML = '';\n",
              "          dataTable['output_type'] = 'display_data';\n",
              "          await google.colab.output.renderOutput(dataTable, element);\n",
              "          const docLink = document.createElement('div');\n",
              "          docLink.innerHTML = docLinkHtml;\n",
              "          element.appendChild(docLink);\n",
              "        }\n",
              "      </script>\n",
              "    </div>\n",
              "  </div>\n",
              "  "
            ]
          },
          "metadata": {},
          "execution_count": 3
        }
      ]
    },
    {
      "cell_type": "code",
      "source": [
        "# Done"
      ],
      "metadata": {
        "id": "6vlu0XO6zwkc"
      },
      "execution_count": null,
      "outputs": []
    }
  ]
}